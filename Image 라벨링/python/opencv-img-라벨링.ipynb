{
 "cells": [
  {
   "cell_type": "code",
   "execution_count": 13,
   "metadata": {},
   "outputs": [
    {
     "data": {
      "text/plain": [
       "-1"
      ]
     },
     "execution_count": 13,
     "metadata": {},
     "output_type": "execute_result"
    }
   ],
   "source": [
    "import cv2 as cv\n",
    "\n",
    "img_color = cv.imread(\"label.jpg\",1)\n",
    "img_gray = cv.imread(\"label.jpg\",0)\n",
    "cv.imshow(\"result\",img_gray)\n",
    "cv.waitKey(0)\n",
    "\n",
    "## 에지를 검출, 검출된 에지만 흰색이 됩니다.\n",
    "img_edge = cv.Canny(img_gray,50,150)\n",
    "cv.imshow(\"result\",img_edge)\n",
    "cv.waitKey(0)\n",
    "\n",
    "## 관심 물체가 흰색이 되어야 하므로 반전 시킵니다.\n",
    "img_edge = cv.bitwise_not(img_edge)\n",
    "cv.imshow(\"result\",img_edge)\n",
    "cv.waitKey(0)\n",
    "\n",
    "## 컨두어를 찾아서 회곽선을 보강 합니다.\n",
    "contours = cv.findContours(img_edge.copy(), cv.RETR_LIST, cv.CHAIN_APPROX_SIMPLE)\n",
    "cv.drawContours(img_edge, contours[0],-1,(0,0,0),1)\n",
    "cv.imshow(\"result\", img_edge)\n",
    "cv.waitKey(0)\n",
    "\n",
    "## 흰색 영역에 대해 라벨링을 합니다\n",
    "nlabels,labels,stats,centroids = cv.connectedComponentsWithStats(img_edge)\\\n",
    "\n",
    "for i in range(nlabels):\n",
    "    ##배경을 제외시킵니다.\n",
    "    if i < 2:\n",
    "        continue\n",
    "    ## 흰색 영역의 크기, 중심 좌표, 외각 사각형에 대한 정볼르 가져옵니다.\n",
    "    area = stats[i,cv.CC_STAT_AREA]\n",
    "    center_x = int(centroids[i,0])\n",
    "    center_y = int(centroids[i,1])\n",
    "    left = stats[i,cv.CC_STAT_LEFT]\n",
    "    top = stats[i,cv.CC_STAT_TOP]\n",
    "    width = stats[i,cv.CC_STAT_WIDTH]\n",
    "    height = stats[i,cv.CC_STAT_HEIGHT]\n",
    "    \n",
    "    ## 영역의 크기가 50 이상인 경우\n",
    "    ## 해당 영역에 다음과 같은 정보를 표시합니다.\n",
    "    if area > 50:\n",
    "        ## 영역 외각에 사각형을 그립니다.\n",
    "        cv.rectangle(img_color,(left,top),(left+width,top+height),(0,0,255),1)\n",
    "\n",
    "        ## 영역의 중심 좌표에 원을 그립니다.\n",
    "        cv.circle(img_color,(center_x,center_y),5,(255,0,0),1)\n",
    "\n",
    "        ## 라벨 번호를 표시합니다.\n",
    "        cv.putText(img_color,str(i),(left+20,top+20),cv.FONT_HERSHEY_SIMPLEX,1,(255,0,0),2);\n",
    "    \n",
    "## 결과창\n",
    "cv.imshow(\"result\",img_color)\n",
    "cv.waitKey(0)"
   ]
  },
  {
   "cell_type": "code",
   "execution_count": null,
   "metadata": {},
   "outputs": [],
   "source": []
  }
 ],
 "metadata": {
  "kernelspec": {
   "display_name": "Python 3",
   "language": "python",
   "name": "python3"
  },
  "language_info": {
   "codemirror_mode": {
    "name": "ipython",
    "version": 3
   },
   "file_extension": ".py",
   "mimetype": "text/x-python",
   "name": "python",
   "nbconvert_exporter": "python",
   "pygments_lexer": "ipython3",
   "version": "3.8.5"
  }
 },
 "nbformat": 4,
 "nbformat_minor": 4
}
