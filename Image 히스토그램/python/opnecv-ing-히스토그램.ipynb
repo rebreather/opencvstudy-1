{
 "cells": [
  {
   "cell_type": "code",
   "execution_count": 1,
   "metadata": {},
   "outputs": [
    {
     "data": {
      "text/plain": [
       "-1"
      ]
     },
     "execution_count": 1,
     "metadata": {},
     "output_type": "execute_result"
    }
   ],
   "source": [
    "#### 컬러 히스토그램\n",
    "import cv2 as cv\n",
    "import numpy as np\n",
    "\n",
    "src = cv.imread(\"test.jpg\", cv.IMREAD_COLOR)\n",
    "bgr_planes = cv.split(src) ## rgb 채널로 분리\n",
    "\n",
    "histSize = 256 ## 픽셀값이 0 ~ 255 \n",
    "histRange = (0,256) ## 0 ~ 255 (256은 포함 x)\n",
    "\n",
    "accumulate = False ## 히스토그램 막대크기가 똑같고 처음 시작시 히스토그램이 비어있도록\n",
    "\n",
    "## B, G, R 채널 별로 히스토그램을 계산\n",
    "b_hist = cv.calcHist(bgr_planes,[0],None,[histSize],histRange,accumulate=accumulate) ## 파란색\n",
    "g_hist = cv.calcHist(bgr_planes,[1],None,[histSize],histRange,accumulate=accumulate) ## 초록색\n",
    "r_hist = cv.calcHist(bgr_planes,[2],None,[histSize],histRange,accumulate=accumulate) ## 빨간색\n",
    "\n",
    "## 히스토오그램을 보여줄 이미지를 생성\n",
    "hist_w = 256*3\n",
    "hist_h = 400\n",
    "histImage = np.zeros((hist_h,hist_w,3),dtype=np.uint8) ## 높이,널비,3개,타입은 unit8\n",
    "\n",
    "## 히스토그램을 정규화\n",
    "cv.normalize(b_hist,b_hist,alpha=0,beta=hist_h,norm_type=cv.NORM_MINMAX)\n",
    "cv.normalize(g_hist,g_hist,alpha=0,beta=hist_h,norm_type=cv.NORM_MINMAX)\n",
    "cv.normalize(r_hist,r_hist,alpha=0,beta=hist_h,norm_type=cv.NORM_MINMAX)\n",
    "\n",
    "## 히스토그램을 그리기\n",
    "for i in range(0,histSize):\n",
    "    cv.line(histImage,(i,hist_h-int(np.round(b_hist[i]))),(i,hist_h-0),(255,0,0),thickness=2) ## 파란색\n",
    "    cv.line(histImage, (i+256,hist_h-int(np.round(g_hist[i-1]))),(i+256,hist_h-0),(0,255,0),thickness=2) ## 초록색\n",
    "    cv.line(histImage,(i+256*2,hist_h-int(np.round(r_hist[i-1]))),(i+256*2,hist_h-0),(0,0,255),thickness=2) ## 빨간색\n",
    "    \n",
    "## 결과화면 보여주기\n",
    "cv.imshow('Source Image', src)\n",
    "cv.imshow('Histogram', histImage)\n",
    "cv.waitKey()"
   ]
  },
  {
   "cell_type": "code",
   "execution_count": 2,
   "metadata": {},
   "outputs": [
    {
     "data": {
      "text/plain": [
       "-1"
      ]
     },
     "execution_count": 2,
     "metadata": {},
     "output_type": "execute_result"
    }
   ],
   "source": [
    "#### 흑백 히스토그램\n",
    "import cv2 as cv\n",
    "import numpy as np\n",
    "\n",
    "src= cv.imread(\"test.jpg\", cv.IMREAD_GRAYSCALE) ## 흑백으로 불러오기\n",
    "\n",
    "histSize = 256 ## 픽셀값이 0 ~ 255 \n",
    "histRange = (0,256) ## 0 ~ 255 (256은 포함 x)\n",
    "accumulate = False ## 히스토그램 막대크기가 똑같고 처음 시작시 히스토그램이 비어있도록\n",
    "\n",
    "## 히스토그램 계산\n",
    "gray_hist = cv.calcHist([src], [0] ,None, [histSize], histRange, accumulate=accumulate) \n",
    "\n",
    "## 히스토그램을 보여줄 이미지 생성\n",
    "hist_w = 256\n",
    "host_h = 400\n",
    "histImage = np.zeros((hist_h,hist_w,1),dtype=np.uint8) ## 1개 그래프\n",
    "\n",
    "## 히스토그램 정규화\n",
    "cv.normalize(gray_hist, gray_hist, alpha=0, beta=hist_h, norm_type=cv.NORM_MINMAX)\n",
    "\n",
    "## 히스토그램 그리기\n",
    "for i in range(0,histSize) :\n",
    "    cv.line(histImage,(i,hist_h-int(np.round(gray_hist[i]))), (i,hist_h-0), (255,255,255), thickness=2)\n",
    "    \n",
    "## 결과화면 보여주기\n",
    "cv.imshow('Source Image', src)\n",
    "cv.imshow('Histogram', histImage)\n",
    "cv.waitKey()"
   ]
  },
  {
   "cell_type": "code",
   "execution_count": null,
   "metadata": {},
   "outputs": [],
   "source": [
    "## 히스토그램 평활화\n",
    "import cv2 as cv\n",
    "import numpy as np\n",
    "\n",
    "def draw_histogram(img):\n",
    "    hist_h = img.shape[0]\n",
    "    hist_w = 256\n",
    "    img_histogram1 = np.zeros((hist_h,hist_w,1), dtype=np.uint8)\n",
    "    \n",
    "    ## 히스토그램 계산\n",
    "    histSize = 256 ## 픽셀값이 0 ~ 255 \n",
    "    histRange = (0,256) ## 0 ~ 255 (256은 포함 x)\n",
    "    accumulate = False ## 히스토그램 막대크기가 똑같고 처음 시작시 히스토그램이 비어있도록\n",
    "    hist_item = cv.calcHist([img],[0],None,[histSize],histRange,accumulate=accumulate)\n",
    "\n",
    "    cv.normalize(hist_item, hist_item, alpha=0, beta=hist_h, norm_type=cv.NORM_MINMAX)\n",
    "\n",
    "    for i in range(0,histSize):\n",
    "        cv.line(img_histogram1,(i,hist_h-int(np.round(hist_item[i]))), (i,hist_h), (255,255,255))\n",
    "\n",
    "    ## 누적 히스토그램을 그릴 이미지 생성\n",
    "    img_histogram2 = np.zeros((hist_h,hist_w,1), dtype=np.uint8)\n",
    "    \n",
    "    ## 누적 히스토그램을 계산하여 그리기\n",
    "    c_hist = np.zeros(hist_item.shape, dtype=hist_item.dtype)\n",
    "    \n",
    "    c_hist[0] = hist_item[0]\n",
    "    for i in range(1,hist_item.shape[0]):\n",
    "        c_hist[i] = hist_item[i] + c_hist[i-1]\n",
    "        \n",
    "    cv.normalize(c_hist, c_hist, alpha=0, beta=hist_h, norm_type=cv.NORM_MINMAX)\n",
    "    \n",
    "    for i in range(1,histSize):\n",
    "        pts = []\n",
    "        pts.append((i,hist_h-np.round(c_hist[i])))\n",
    "        pts.append(((i-1),hist_h-np.round(c_hist[i-1])))\n",
    "        pts = np.array(pts)\n",
    "        pts = np.int32(pts)\n",
    "        cv.polylines(img_histogram2,[pts],False,(255,255,255))\n",
    "        \n",
    "    result = cv.hconcat((img_histogram1,img_histogram2))\n",
    "    \n",
    "    return result\n",
    "\n",
    "\n",
    "img_gray = cv.imread(\"test.jpg\", 0)\n",
    "img_histo1 = draw_histogram(img_gray)\n",
    "\n",
    "result1 = cv.hconcat((img_gray, img_histo1))\n",
    "\n",
    "cv.imshow(\"restul1\", result1)\n",
    "\n",
    "## 히스토그램 평활화 적용후 히스토그램\n",
    "img_equ = cv.equalizeHist(img_gray)\n",
    "img_histo2 = draw_histogram(img_equ)\n",
    "result2 = cv.hconcat((img_equ, img_histo2))\n",
    "cv.imshow(\"result2\", result2)\n",
    "cv.waitKey(0)\n",
    "cv.destroyAllWindows()"
   ]
  },
  {
   "cell_type": "code",
   "execution_count": 1,
   "metadata": {},
   "outputs": [
    {
     "data": {
      "text/plain": [
       "-1"
      ]
     },
     "execution_count": 1,
     "metadata": {},
     "output_type": "execute_result"
    }
   ],
   "source": [
    "## 컬러 -> 흑백\n",
    "import cv2\n",
    "\n",
    "img = cv2.imread(\"test.jpg\")\n",
    "img_gray = cv2.cvtColor(img, cv2.COLOR_BGR2GRAY)\n",
    "\n",
    "cv2.imshow(\"img\", img)\n",
    "cv2.imshow(\"img_gray\", img_gray)\n",
    "cv2.waitKey()"
   ]
  },
  {
   "cell_type": "code",
   "execution_count": null,
   "metadata": {},
   "outputs": [],
   "source": []
  }
 ],
 "metadata": {
  "kernelspec": {
   "display_name": "Python 3",
   "language": "python",
   "name": "python3"
  },
  "language_info": {
   "codemirror_mode": {
    "name": "ipython",
    "version": 3
   },
   "file_extension": ".py",
   "mimetype": "text/x-python",
   "name": "python",
   "nbconvert_exporter": "python",
   "pygments_lexer": "ipython3",
   "version": "3.8.5"
  }
 },
 "nbformat": 4,
 "nbformat_minor": 4
}
